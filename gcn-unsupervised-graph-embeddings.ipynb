{
 "cells": [
  {
   "cell_type": "markdown",
   "metadata": {},
   "source": [
    "# Unsupervised graph classification/representation learning via distances"
   ]
  },
  {
   "cell_type": "markdown",
   "metadata": {
    "nbsphinx": "hidden",
    "tags": [
     "CloudRunner"
    ]
   },
   "source": [
    "<table><tr><td>Run the latest release of this notebook:</td><td><a href=\"https://mybinder.org/v2/gh/stellargraph/stellargraph/master?urlpath=lab/tree/demos/embeddings/gcn-unsupervised-graph-embeddings.ipynb\" alt=\"Open In Binder\" target=\"_parent\"><img src=\"https://mybinder.org/badge_logo.svg\"/></a></td><td><a href=\"https://colab.research.google.com/github/stellargraph/stellargraph/blob/master/demos/embeddings/gcn-unsupervised-graph-embeddings.ipynb\" alt=\"Open In Colab\" target=\"_parent\"><img src=\"https://colab.research.google.com/assets/colab-badge.svg\"/></a></td></tr></table>"
   ]
  },
  {
   "cell_type": "markdown",
   "metadata": {},
   "source": [
    "This demo demonstrated training a graph classification model without supervision. This model could be used to compute embedding vectors or representations for graphs.\n",
    "\n",
    "The algorithm uses a ground-truth distance between graphs as a metric to train against, by embedding pairs of graphs simultaneously and combining the resulting embedding vectors to match the distance.\n",
    "\n",
    "It is inspired by UGraphEmb[1].\n",
    "\n",
    "[1]: Y. Bai et al., “Unsupervised Inductive Graph-Level Representation Learning via Graph-Graph Proximity,” [arXiv:1904.01098](http://arxiv.org/abs/1904.01098) [cs, stat], Jun. 2019."
   ]
  },
  {
   "cell_type": "code",
   "execution_count": 24,
   "metadata": {},
   "outputs": [],
   "source": [
    "import stellargraph as sg\n",
    "from stellargraph import StellarGraph\n",
    "from stellargraph.mapper import PaddedGraphGenerator\n",
    "from stellargraph.layer import GCNSupervisedGraphClassification\n",
    "\n",
    "import pandas as pd\n",
    "import numpy as np\n",
    "import networkx as nx\n",
    "import tensorflow as tf\n",
    "from tensorflow import keras\n",
    "import os \n",
    "\n",
    "from IPython.display import display, HTML"
   ]
  },
  {
   "cell_type": "markdown",
   "metadata": {},
   "source": [
    "## Dataset\n",
    "\n",
    "The PROTEINS dataset consists of about one thousand graphs, with binary labels `1` or `2`."
   ]
  },
  {
   "cell_type": "code",
   "execution_count": 19,
   "metadata": {},
   "outputs": [],
   "source": [
    "# dataset = sg.datasets.PROTEINS()\n",
    "# graphs, graph_labels = dataset.load()"
   ]
  },
  {
   "cell_type": "code",
   "execution_count": null,
   "metadata": {},
   "outputs": [],
   "source": [
    "# src = 'C:/Users/sgarcia40/ML Projects/Causal Inference/kdd2018-tutorial/TimeSeriesNetworkViz/gexf_graphs'\n",
    "# dest = 'C:/Users/sgarcia40/UCSC_DBDA_Spring_2020/Project_3/UGraphEmb/data/Stellargraph/train'\n",
    "\n",
    "# i = 0\n",
    "# src_files = os.listdir(src)\n",
    "# for file_name in src_files:\n",
    "#     full_file_name = os.path.join(src, file_name)\n",
    "#     if os.path.isfile(full_file_name):\n",
    "#         shutil.copy(full_file_name, dest)\n",
    "#         i = i+1\n",
    "        \n",
    "# print(\"The number of graphs copied is: \", i)"
   ]
  },
  {
   "cell_type": "code",
   "execution_count": 25,
   "metadata": {},
   "outputs": [],
   "source": [
    "# Convert gexf graphs into networkx\n",
    "src = 'C:/Users/sgarcia40/UCSC_DBDA_Spring_2020/Project_3/UGraphEmb/data/Stellargraph/train'\n",
    "\n",
    "src_files = os.listdir(src)\n",
    "accumulator = 0\n",
    "file_cntr = 0\n",
    "\n",
    "graphs = list()\n",
    "\n",
    "for file_name in src_files:\n",
    "    full_file_name = os.path.join(src, file_name)\n",
    "    \n",
    "    g = nx.read_gexf(full_file_name)\n",
    "    graph = StellarGraph.from_networkx(g)\n",
    "    graphs.append(graph)\n",
    "\n"
   ]
  },
  {
   "cell_type": "code",
   "execution_count": 26,
   "metadata": {},
   "outputs": [],
   "source": [
    "def append_ext_to_filepath(ext, fp):  \n",
    "    if ext not in fp:\n",
    "        fp += ext    \n",
    "    \n",
    "    return fp\n",
    "\n",
    "def load_glabels_from_txt(filepath):\n",
    "    filepath = append_ext_to_filepath('.txt', filepath)\n",
    "    rtn = {}\n",
    "    int_map = {}\n",
    "    seen_glabels = set()\n",
    "    with open(filepath) as f:\n",
    "        for line in f:\n",
    "            ls = line.rstrip().split()\n",
    "            assert (len(ls) == 2)\n",
    "            gid = int(ls[0])\n",
    "            try:\n",
    "                glabel = int(ls[1])\n",
    "            except ValueError:\n",
    "                label_string = ls[1]\n",
    "                glabel = int_map.get(label_string)\n",
    "                if glabel is None:\n",
    "                    glabel = len(int_map)  # guarantee 0-based\n",
    "                    int_map[label_string] = glabel  # increase the size of int_map by 1\n",
    "            rtn[gid] = glabel\n",
    "            seen_glabels.add(glabel)\n",
    "    if 0 not in seen_glabels:  # check 0-based graph labels\n",
    "        raise RuntimeError('{} has no glabel 0; {}'.format(filepath, seen_glabels))\n",
    "    return rtn"
   ]
  },
  {
   "cell_type": "code",
   "execution_count": 27,
   "metadata": {},
   "outputs": [],
   "source": [
    "# load the graph labels from file and transform into an array of glabels\n",
    "\n",
    "filepath = 'C:\\\\Users\\\\sgarcia40\\\\UCSC_DBDA_Spring_2020\\\\Project_3\\\\UGraphEmb\\\\data\\\\Project\\\\glabels.txt'\n",
    "glabels_dic = load_glabels_from_txt(filepath)        \n",
    "\n",
    "glabel_data = list(glabels_dic.items())\n",
    "tmp_arr_2d = np.array(glabel_data)\n",
    "\n",
    "_, glabels = zip(*tmp_arr_2d) \n",
    "glabels = np.asarray(glabels)"
   ]
  },
  {
   "cell_type": "code",
   "execution_count": 28,
   "metadata": {},
   "outputs": [],
   "source": [
    "# convert array of glabels into a dtype category\n",
    "df = pd.DataFrame(list(glabels), dtype=\"category\")\n",
    "\n",
    "# change glabels to graph_labels later\n",
    "graph_labels = df[0]"
   ]
  },
  {
   "cell_type": "code",
   "execution_count": 29,
   "metadata": {},
   "outputs": [
    {
     "data": {
      "text/html": [
       "<div>\n",
       "<style scoped>\n",
       "    .dataframe tbody tr th:only-of-type {\n",
       "        vertical-align: middle;\n",
       "    }\n",
       "\n",
       "    .dataframe tbody tr th {\n",
       "        vertical-align: top;\n",
       "    }\n",
       "\n",
       "    .dataframe thead th {\n",
       "        text-align: right;\n",
       "    }\n",
       "</style>\n",
       "<table border=\"1\" class=\"dataframe\">\n",
       "  <thead>\n",
       "    <tr style=\"text-align: right;\">\n",
       "      <th></th>\n",
       "      <th>0</th>\n",
       "    </tr>\n",
       "  </thead>\n",
       "  <tbody>\n",
       "    <tr>\n",
       "      <th>0</th>\n",
       "      <td>189</td>\n",
       "    </tr>\n",
       "    <tr>\n",
       "      <th>1</th>\n",
       "      <td>61</td>\n",
       "    </tr>\n",
       "    <tr>\n",
       "      <th>5</th>\n",
       "      <td>45</td>\n",
       "    </tr>\n",
       "    <tr>\n",
       "      <th>2</th>\n",
       "      <td>27</td>\n",
       "    </tr>\n",
       "    <tr>\n",
       "      <th>3</th>\n",
       "      <td>21</td>\n",
       "    </tr>\n",
       "    <tr>\n",
       "      <th>4</th>\n",
       "      <td>19</td>\n",
       "    </tr>\n",
       "    <tr>\n",
       "      <th>7</th>\n",
       "      <td>5</td>\n",
       "    </tr>\n",
       "    <tr>\n",
       "      <th>6</th>\n",
       "      <td>4</td>\n",
       "    </tr>\n",
       "  </tbody>\n",
       "</table>\n",
       "</div>"
      ],
      "text/plain": [
       "     0\n",
       "0  189\n",
       "1   61\n",
       "5   45\n",
       "2   27\n",
       "3   21\n",
       "4   19\n",
       "7    5\n",
       "6    4"
      ]
     },
     "execution_count": 29,
     "metadata": {},
     "output_type": "execute_result"
    }
   ],
   "source": [
    "graph_labels.value_counts().to_frame()"
   ]
  },
  {
   "cell_type": "markdown",
   "metadata": {},
   "source": [
    "The `graphs` value consists of many `StellarGraph` instances:"
   ]
  },
  {
   "cell_type": "code",
   "execution_count": 30,
   "metadata": {},
   "outputs": [
    {
     "name": "stdout",
     "output_type": "stream",
     "text": [
      "StellarGraph: Undirected multigraph\n",
      " Nodes: 3, Edges: 2\n",
      "\n",
      " Node types:\n",
      "  2: [1]\n",
      "    Features: none\n",
      "    Edge types: 2-default->1\n",
      "  1: [1]\n",
      "    Features: none\n",
      "    Edge types: 1-default->0, 1-default->2\n",
      "  0: [1]\n",
      "    Features: none\n",
      "    Edge types: 0-default->1\n",
      "\n",
      " Edge types:\n",
      "    1-default->2: [1]\n",
      "        Weights: all 1 (default)\n",
      "    0-default->1: [1]\n",
      "        Weights: all 1 (default)\n"
     ]
    }
   ],
   "source": [
    "print(graphs[0].info())"
   ]
  },
  {
   "cell_type": "code",
   "execution_count": 35,
   "metadata": {},
   "outputs": [
    {
     "data": {
      "text/plain": [
       "<bound method StellarGraph.nodes of <stellargraph.core.graph.StellarGraph object at 0x00000235A53B1548>>"
      ]
     },
     "execution_count": 35,
     "metadata": {},
     "output_type": "execute_result"
    }
   ],
   "source": [
    "graphs[0].nodes"
   ]
  },
  {
   "cell_type": "code",
   "execution_count": 33,
   "metadata": {},
   "outputs": [
    {
     "name": "stdout",
     "output_type": "stream",
     "text": [
      "StellarGraph: Undirected multigraph\n",
      " Nodes: 45, Edges: 52\n",
      "\n",
      " Node types:\n",
      "  9: [1]\n",
      "    Features: none\n",
      "    Edge types: 9-default->27, 9-default->4\n",
      "  8: [1]\n",
      "    Features: none\n",
      "    Edge types: 8-default->0, 8-default->33\n",
      "  7: [1]\n",
      "    Features: none\n",
      "    Edge types: 7-default->12, 7-default->41\n",
      "  6: [1]\n",
      "    Features: none\n",
      "    Edge types: 6-default->39\n",
      "  5: [1]\n",
      "    Features: none\n",
      "    Edge types: 5-default->39\n",
      "  44: [1]\n",
      "    Features: none\n",
      "    Edge types: 44-default->20\n",
      "  43: [1]\n",
      "    Features: none\n",
      "    Edge types: 43-default->34, 43-default->39\n",
      "  42: [1]\n",
      "    Features: none\n",
      "    Edge types: 42-default->20, 42-default->39\n",
      "  41: [1]\n",
      "    Features: none\n",
      "    Edge types: 41-default->20, 41-default->7\n",
      "  40: [1]\n",
      "    Features: none\n",
      "    Edge types: 40-default->31, 40-default->35\n",
      "  4: [1]\n",
      "    Features: none\n",
      "    Edge types: 4-default->17, 4-default->20, 4-default->37, 4-default->9\n",
      "  39: [1]\n",
      "    Features: none\n",
      "    Edge types: 39-default->10, 39-default->11, 39-default->12, 39-default->27, 39-default->28, ... (7 more)\n",
      "  38: [1]\n",
      "    Features: none\n",
      "    Edge types: 38-default->39\n",
      "  37: [1]\n",
      "    Features: none\n",
      "    Edge types: 37-default->27, 37-default->4\n",
      "  36: [1]\n",
      "    Features: none\n",
      "    Edge types: 36-default->20\n",
      "  35: [1]\n",
      "    Features: none\n",
      "    Edge types: 35-default->20, 35-default->40\n",
      "  34: [1]\n",
      "    Features: none\n",
      "    Edge types: 34-default->23, 34-default->43\n",
      "  33: [1]\n",
      "    Features: none\n",
      "    Edge types: 33-default->13, 33-default->8\n",
      "  32: [1]\n",
      "    Features: none\n",
      "    Edge types: 32-default->39\n",
      "  31: [1]\n",
      "    Features: none\n",
      "    Edge types: 31-default->39, 31-default->40\n",
      "  ... (25 more)\n",
      "\n",
      " Edge types:\n",
      "    9-default->27: [1]\n",
      "        Weights: all 1 (default)\n",
      "    8-default->33: [1]\n",
      "        Weights: all 1 (default)\n",
      "    7-default->41: [1]\n",
      "        Weights: all 1 (default)\n",
      "    7-default->12: [1]\n",
      "        Weights: all 1 (default)\n",
      "    6-default->39: [1]\n",
      "        Weights: all 1 (default)\n",
      "    5-default->39: [1]\n",
      "        Weights: all 1 (default)\n",
      "    4-default->9: [1]\n",
      "        Weights: all 1 (default)\n",
      "    4-default->37: [1]\n",
      "        Weights: all 1 (default)\n",
      "    4-default->20: [1]\n",
      "        Weights: all 1 (default)\n",
      "    4-default->17: [1]\n",
      "        Weights: all 1 (default)\n",
      "    39-default->43: [1]\n",
      "        Weights: all 1 (default)\n",
      "    39-default->42: [1]\n",
      "        Weights: all 1 (default)\n",
      "    38-default->39: [1]\n",
      "        Weights: all 1 (default)\n",
      "    35-default->40: [1]\n",
      "        Weights: all 1 (default)\n",
      "    34-default->43: [1]\n",
      "        Weights: all 1 (default)\n",
      "    32-default->39: [1]\n",
      "        Weights: all 1 (default)\n",
      "    31-default->40: [1]\n",
      "        Weights: all 1 (default)\n",
      "    31-default->39: [1]\n",
      "        Weights: all 1 (default)\n",
      "    3-default->29: [1]\n",
      "        Weights: all 1 (default)\n",
      "    3-default->22: [1]\n",
      "        Weights: all 1 (default)\n",
      "    ... (32 more)\n"
     ]
    }
   ],
   "source": [
    "print(graphs[1].info())"
   ]
  },
  {
   "cell_type": "markdown",
   "metadata": {},
   "source": [
    "Summary statistics of the sizes of the graphs:"
   ]
  },
  {
   "cell_type": "code",
   "execution_count": 31,
   "metadata": {},
   "outputs": [
    {
     "data": {
      "text/html": [
       "<div>\n",
       "<style scoped>\n",
       "    .dataframe tbody tr th:only-of-type {\n",
       "        vertical-align: middle;\n",
       "    }\n",
       "\n",
       "    .dataframe tbody tr th {\n",
       "        vertical-align: top;\n",
       "    }\n",
       "\n",
       "    .dataframe thead th {\n",
       "        text-align: right;\n",
       "    }\n",
       "</style>\n",
       "<table border=\"1\" class=\"dataframe\">\n",
       "  <thead>\n",
       "    <tr style=\"text-align: right;\">\n",
       "      <th></th>\n",
       "      <th>nodes</th>\n",
       "      <th>edges</th>\n",
       "    </tr>\n",
       "  </thead>\n",
       "  <tbody>\n",
       "    <tr>\n",
       "      <th>count</th>\n",
       "      <td>276.0</td>\n",
       "      <td>276.0</td>\n",
       "    </tr>\n",
       "    <tr>\n",
       "      <th>mean</th>\n",
       "      <td>4.5</td>\n",
       "      <td>3.7</td>\n",
       "    </tr>\n",
       "    <tr>\n",
       "      <th>std</th>\n",
       "      <td>8.2</td>\n",
       "      <td>8.6</td>\n",
       "    </tr>\n",
       "    <tr>\n",
       "      <th>min</th>\n",
       "      <td>2.0</td>\n",
       "      <td>1.0</td>\n",
       "    </tr>\n",
       "    <tr>\n",
       "      <th>25%</th>\n",
       "      <td>2.0</td>\n",
       "      <td>1.0</td>\n",
       "    </tr>\n",
       "    <tr>\n",
       "      <th>50%</th>\n",
       "      <td>2.0</td>\n",
       "      <td>1.0</td>\n",
       "    </tr>\n",
       "    <tr>\n",
       "      <th>75%</th>\n",
       "      <td>3.2</td>\n",
       "      <td>2.2</td>\n",
       "    </tr>\n",
       "    <tr>\n",
       "      <th>max</th>\n",
       "      <td>103.0</td>\n",
       "      <td>102.0</td>\n",
       "    </tr>\n",
       "  </tbody>\n",
       "</table>\n",
       "</div>"
      ],
      "text/plain": [
       "       nodes  edges\n",
       "count  276.0  276.0\n",
       "mean     4.5    3.7\n",
       "std      8.2    8.6\n",
       "min      2.0    1.0\n",
       "25%      2.0    1.0\n",
       "50%      2.0    1.0\n",
       "75%      3.2    2.2\n",
       "max    103.0  102.0"
      ]
     },
     "execution_count": 31,
     "metadata": {},
     "output_type": "execute_result"
    }
   ],
   "source": [
    "summary = pd.DataFrame(\n",
    "    [(g.number_of_nodes(), g.number_of_edges()) for g in graphs],\n",
    "    columns=[\"nodes\", \"edges\"],\n",
    ")\n",
    "summary.describe().round(1)"
   ]
  },
  {
   "cell_type": "markdown",
   "metadata": {},
   "source": [
    "## Create the model"
   ]
  },
  {
   "cell_type": "code",
   "execution_count": 32,
   "metadata": {},
   "outputs": [
    {
     "ename": "ValueError",
     "evalue": "graphs: expected only graphs with a single node type, found a graph with node types: '0', '1', '2'",
     "output_type": "error",
     "traceback": [
      "\u001b[1;31m---------------------------------------------------------------------------\u001b[0m",
      "\u001b[1;31mValueError\u001b[0m                                Traceback (most recent call last)",
      "\u001b[1;32m<ipython-input-32-2a08171911b0>\u001b[0m in \u001b[0;36m<module>\u001b[1;34m\u001b[0m\n\u001b[1;32m----> 1\u001b[1;33m \u001b[0mgenerator\u001b[0m \u001b[1;33m=\u001b[0m \u001b[0mPaddedGraphGenerator\u001b[0m\u001b[1;33m(\u001b[0m\u001b[0mgraphs\u001b[0m\u001b[1;33m)\u001b[0m\u001b[1;33m\u001b[0m\u001b[1;33m\u001b[0m\u001b[0m\n\u001b[0m",
      "\u001b[1;32m~\\AppData\\Local\\Continuum\\anaconda37\\envs\\tf_gpu_jupyterLab\\lib\\site-packages\\stellargraph\\mapper\\padded_graph_generator.py\u001b[0m in \u001b[0;36m__init__\u001b[1;34m(self, graphs, name)\u001b[0m\n\u001b[0;32m     42\u001b[0m \u001b[1;33m\u001b[0m\u001b[0m\n\u001b[0;32m     43\u001b[0m         \u001b[0mself\u001b[0m\u001b[1;33m.\u001b[0m\u001b[0mnode_features_size\u001b[0m \u001b[1;33m=\u001b[0m \u001b[1;32mNone\u001b[0m\u001b[1;33m\u001b[0m\u001b[1;33m\u001b[0m\u001b[0m\n\u001b[1;32m---> 44\u001b[1;33m         \u001b[0mself\u001b[0m\u001b[1;33m.\u001b[0m\u001b[0m_check_graphs\u001b[0m\u001b[1;33m(\u001b[0m\u001b[0mgraphs\u001b[0m\u001b[1;33m)\u001b[0m\u001b[1;33m\u001b[0m\u001b[1;33m\u001b[0m\u001b[0m\n\u001b[0m\u001b[0;32m     45\u001b[0m \u001b[1;33m\u001b[0m\u001b[0m\n\u001b[0;32m     46\u001b[0m         \u001b[0mself\u001b[0m\u001b[1;33m.\u001b[0m\u001b[0mgraphs\u001b[0m \u001b[1;33m=\u001b[0m \u001b[0mgraphs\u001b[0m\u001b[1;33m\u001b[0m\u001b[1;33m\u001b[0m\u001b[0m\n",
      "\u001b[1;32m~\\AppData\\Local\\Continuum\\anaconda37\\envs\\tf_gpu_jupyterLab\\lib\\site-packages\\stellargraph\\mapper\\padded_graph_generator.py\u001b[0m in \u001b[0;36m_check_graphs\u001b[1;34m(self, graphs)\u001b[0m\n\u001b[0;32m     63\u001b[0m             \u001b[1;31m# Check that there is only a single node type for GAT or GCN\u001b[0m\u001b[1;33m\u001b[0m\u001b[1;33m\u001b[0m\u001b[1;33m\u001b[0m\u001b[0m\n\u001b[0;32m     64\u001b[0m             node_type = graph.unique_node_type(\n\u001b[1;32m---> 65\u001b[1;33m                 \u001b[1;34m\"graphs: expected only graphs with a single node type, found a graph with node types: %(found)s\"\u001b[0m\u001b[1;33m\u001b[0m\u001b[1;33m\u001b[0m\u001b[0m\n\u001b[0m\u001b[0;32m     66\u001b[0m             )\n\u001b[0;32m     67\u001b[0m \u001b[1;33m\u001b[0m\u001b[0m\n",
      "\u001b[1;32m~\\AppData\\Local\\Continuum\\anaconda37\\envs\\tf_gpu_jupyterLab\\lib\\site-packages\\stellargraph\\core\\graph.py\u001b[0m in \u001b[0;36munique_node_type\u001b[1;34m(self, error_message)\u001b[0m\n\u001b[0;32m    785\u001b[0m             )\n\u001b[0;32m    786\u001b[0m \u001b[1;33m\u001b[0m\u001b[0m\n\u001b[1;32m--> 787\u001b[1;33m         \u001b[1;32mraise\u001b[0m \u001b[0mValueError\u001b[0m\u001b[1;33m(\u001b[0m\u001b[0merror_message\u001b[0m \u001b[1;33m%\u001b[0m \u001b[1;33m{\u001b[0m\u001b[1;34m\"found\"\u001b[0m\u001b[1;33m:\u001b[0m \u001b[0mfound\u001b[0m\u001b[1;33m}\u001b[0m\u001b[1;33m)\u001b[0m\u001b[1;33m\u001b[0m\u001b[1;33m\u001b[0m\u001b[0m\n\u001b[0m\u001b[0;32m    788\u001b[0m \u001b[1;33m\u001b[0m\u001b[0m\n\u001b[0;32m    789\u001b[0m     \u001b[1;33m@\u001b[0m\u001b[0mproperty\u001b[0m\u001b[1;33m\u001b[0m\u001b[1;33m\u001b[0m\u001b[0m\n",
      "\u001b[1;31mValueError\u001b[0m: graphs: expected only graphs with a single node type, found a graph with node types: '0', '1', '2'"
     ]
    }
   ],
   "source": [
    "generator = PaddedGraphGenerator(graphs)"
   ]
  },
  {
   "cell_type": "code",
   "execution_count": 22,
   "metadata": {},
   "outputs": [
    {
     "ename": "RuntimeError",
     "evalue": "This StellarGraph has no numeric feature attributes for nodesNode features are required for machine learning",
     "output_type": "error",
     "traceback": [
      "\u001b[1;31m---------------------------------------------------------------------------\u001b[0m",
      "\u001b[1;31mRuntimeError\u001b[0m                              Traceback (most recent call last)",
      "\u001b[1;32m<ipython-input-22-81687bd29821>\u001b[0m in \u001b[0;36m<module>\u001b[1;34m\u001b[0m\n\u001b[1;32m----> 1\u001b[1;33m \u001b[0mgenerator\u001b[0m \u001b[1;33m=\u001b[0m \u001b[0mFullBatchNodeGenerator\u001b[0m\u001b[1;33m(\u001b[0m\u001b[0mgraphs\u001b[0m\u001b[1;33m[\u001b[0m\u001b[1;36m0\u001b[0m\u001b[1;33m]\u001b[0m\u001b[1;33m,\u001b[0m \u001b[0mmethod\u001b[0m\u001b[1;33m=\u001b[0m\u001b[1;34m\"gcn\"\u001b[0m\u001b[1;33m)\u001b[0m\u001b[1;33m\u001b[0m\u001b[1;33m\u001b[0m\u001b[0m\n\u001b[0m",
      "\u001b[1;32m~\\AppData\\Local\\Continuum\\anaconda37\\envs\\tf_gpu_jupyterLab\\lib\\site-packages\\stellargraph\\mapper\\full_batch_generators.py\u001b[0m in \u001b[0;36m__init__\u001b[1;34m(self, G, name, method, k, sparse, transform, teleport_probability)\u001b[0m\n\u001b[0;32m     80\u001b[0m \u001b[1;33m\u001b[0m\u001b[0m\n\u001b[0;32m     81\u001b[0m         \u001b[1;31m# Check if the graph has features\u001b[0m\u001b[1;33m\u001b[0m\u001b[1;33m\u001b[0m\u001b[1;33m\u001b[0m\u001b[0m\n\u001b[1;32m---> 82\u001b[1;33m         \u001b[0mG\u001b[0m\u001b[1;33m.\u001b[0m\u001b[0mcheck_graph_for_ml\u001b[0m\u001b[1;33m(\u001b[0m\u001b[1;33m)\u001b[0m\u001b[1;33m\u001b[0m\u001b[1;33m\u001b[0m\u001b[0m\n\u001b[0m\u001b[0;32m     83\u001b[0m \u001b[1;33m\u001b[0m\u001b[0m\n\u001b[0;32m     84\u001b[0m         \u001b[1;31m# Check that there is only a single node type for GAT or GCN\u001b[0m\u001b[1;33m\u001b[0m\u001b[1;33m\u001b[0m\u001b[1;33m\u001b[0m\u001b[0m\n",
      "\u001b[1;32m~\\AppData\\Local\\Continuum\\anaconda37\\envs\\tf_gpu_jupyterLab\\lib\\site-packages\\stellargraph\\core\\graph.py\u001b[0m in \u001b[0;36mcheck_graph_for_ml\u001b[1;34m(self, features)\u001b[0m\n\u001b[0;32m    820\u001b[0m         \u001b[1;32mif\u001b[0m \u001b[0mall\u001b[0m\u001b[1;33m(\u001b[0m\u001b[0msize\u001b[0m \u001b[1;33m==\u001b[0m \u001b[1;36m0\u001b[0m \u001b[1;32mfor\u001b[0m \u001b[0m_\u001b[0m\u001b[1;33m,\u001b[0m \u001b[0msize\u001b[0m \u001b[1;32min\u001b[0m \u001b[0mself\u001b[0m\u001b[1;33m.\u001b[0m\u001b[0mnode_feature_sizes\u001b[0m\u001b[1;33m(\u001b[0m\u001b[1;33m)\u001b[0m\u001b[1;33m.\u001b[0m\u001b[0mitems\u001b[0m\u001b[1;33m(\u001b[0m\u001b[1;33m)\u001b[0m\u001b[1;33m)\u001b[0m\u001b[1;33m:\u001b[0m\u001b[1;33m\u001b[0m\u001b[1;33m\u001b[0m\u001b[0m\n\u001b[0;32m    821\u001b[0m             raise RuntimeError(\n\u001b[1;32m--> 822\u001b[1;33m                 \u001b[1;34m\"This StellarGraph has no numeric feature attributes for nodes\"\u001b[0m\u001b[1;33m\u001b[0m\u001b[1;33m\u001b[0m\u001b[0m\n\u001b[0m\u001b[0;32m    823\u001b[0m                 \u001b[1;34m\"Node features are required for machine learning\"\u001b[0m\u001b[1;33m\u001b[0m\u001b[1;33m\u001b[0m\u001b[0m\n\u001b[0;32m    824\u001b[0m             )\n",
      "\u001b[1;31mRuntimeError\u001b[0m: This StellarGraph has no numeric feature attributes for nodesNode features are required for machine learning"
     ]
    }
   ],
   "source": [
    "generator = FullBatchNodeGenerator(graphs[0], method=\"gcn\")"
   ]
  },
  {
   "cell_type": "code",
   "execution_count": 34,
   "metadata": {},
   "outputs": [
    {
     "ename": "TypeError",
     "evalue": "__init__() missing 1 required positional argument: 'generator'",
     "output_type": "error",
     "traceback": [
      "\u001b[1;31m---------------------------------------------------------------------------\u001b[0m",
      "\u001b[1;31mTypeError\u001b[0m                                 Traceback (most recent call last)",
      "\u001b[1;32m<ipython-input-34-dff226a1ca5b>\u001b[0m in \u001b[0;36m<module>\u001b[1;34m\u001b[0m\n\u001b[0;32m      1\u001b[0m gc_model = sg.layer.GCNSupervisedGraphClassification(\n\u001b[1;32m----> 2\u001b[1;33m     \u001b[1;33m[\u001b[0m\u001b[1;36m64\u001b[0m\u001b[1;33m,\u001b[0m \u001b[1;36m32\u001b[0m\u001b[1;33m]\u001b[0m\u001b[1;33m,\u001b[0m \u001b[1;33m[\u001b[0m\u001b[1;34m\"relu\"\u001b[0m\u001b[1;33m,\u001b[0m \u001b[1;34m\"relu\"\u001b[0m\u001b[1;33m]\u001b[0m\u001b[1;33m,\u001b[0m  \u001b[0mpool_all_layers\u001b[0m\u001b[1;33m=\u001b[0m\u001b[1;32mTrue\u001b[0m\u001b[1;33m\u001b[0m\u001b[1;33m\u001b[0m\u001b[0m\n\u001b[0m\u001b[0;32m      3\u001b[0m )\n",
      "\u001b[1;31mTypeError\u001b[0m: __init__() missing 1 required positional argument: 'generator'"
     ]
    }
   ],
   "source": [
    "gc_model = sg.layer.GCNSupervisedGraphClassification(\n",
    "    [64, 32], [\"relu\", \"relu\"], generator, pool_all_layers=True\n",
    ")"
   ]
  },
  {
   "cell_type": "code",
   "execution_count": 10,
   "metadata": {},
   "outputs": [],
   "source": [
    "inp1, out1 = gc_model.in_out_tensors()\n",
    "inp2, out2 = gc_model.in_out_tensors()\n",
    "\n",
    "vec_distance = tf.norm(out1 - out2, axis=1)"
   ]
  },
  {
   "cell_type": "code",
   "execution_count": 11,
   "metadata": {},
   "outputs": [],
   "source": [
    "pair_model = keras.Model(inp1 + inp2, vec_distance)\n",
    "embedding_model = keras.Model(inp1, out1)"
   ]
  },
  {
   "cell_type": "markdown",
   "metadata": {},
   "source": [
    "## Train the model\n",
    "\n",
    "The model is trained on 100 random pairs of graphs, along with the ground-truth distance between them."
   ]
  },
  {
   "cell_type": "markdown",
   "metadata": {},
   "source": [
    "### Similarity measure\n",
    "\n",
    "This method can use any notion of distance or similarity between two graphs. In this case, we use something efficient, but not particularly accurate: the distance between the spectrum (or eigenvalues) of the [Laplacian matrix](https://en.wikipedia.org/wiki/Laplacian_matrix) of the graphs.\n",
    "\n",
    "Other options include graph edit distance and minimum common subgraph, but these are NP-hard to compute and are too slow for this demonstration."
   ]
  },
  {
   "cell_type": "code",
   "execution_count": 12,
   "metadata": {},
   "outputs": [],
   "source": [
    "def graph_distance(graph1, graph2):\n",
    "    spec1 = nx.laplacian_spectrum(graph1.to_networkx(feature_attr=None))\n",
    "    spec2 = nx.laplacian_spectrum(graph2.to_networkx(feature_attr=None))\n",
    "    k = min(len(spec1), len(spec2))\n",
    "    return np.linalg.norm(spec1[:k] - spec2[:k])"
   ]
  },
  {
   "cell_type": "markdown",
   "metadata": {},
   "source": [
    "### Training examples"
   ]
  },
  {
   "cell_type": "code",
   "execution_count": 13,
   "metadata": {},
   "outputs": [],
   "source": [
    "graph_idx = np.random.RandomState(0).randint(len(graphs), size=(100, 2))"
   ]
  },
  {
   "cell_type": "code",
   "execution_count": 14,
   "metadata": {},
   "outputs": [],
   "source": [
    "targets = [graph_distance(graphs[left], graphs[right]) for left, right in graph_idx]"
   ]
  },
  {
   "cell_type": "code",
   "execution_count": 15,
   "metadata": {},
   "outputs": [],
   "source": [
    "train_gen = generator.flow(graph_idx, batch_size=10, targets=targets)"
   ]
  },
  {
   "cell_type": "markdown",
   "metadata": {},
   "source": [
    "### Training procedure"
   ]
  },
  {
   "cell_type": "code",
   "execution_count": 16,
   "metadata": {},
   "outputs": [],
   "source": [
    "pair_model.compile(keras.optimizers.Adam(1e-2), loss=\"mse\")"
   ]
  },
  {
   "cell_type": "code",
   "execution_count": 17,
   "metadata": {},
   "outputs": [
    {
     "name": "stdout",
     "output_type": "stream",
     "text": [
      "Wall time: 1min 33s\n"
     ]
    },
    {
     "data": {
      "image/png": "[encoded data removed]",
      "text/plain": [
       "<Figure size 504x288 with 1 Axes>"
      ]
     },
     "metadata": {
      "needs_background": "light"
     },
     "output_type": "display_data"
    }
   ],
   "source": [
    "%%time\n",
    "history = pair_model.fit(train_gen, epochs=500, verbose=2)\n",
    "sg.utils.plot_history(history)"
   ]
  },
  {
   "cell_type": "markdown",
   "metadata": {},
   "source": [
    "## Compute embeddings"
   ]
  },
  {
   "cell_type": "code",
   "execution_count": 18,
   "metadata": {},
   "outputs": [],
   "source": [
    "embeddings = embedding_model.predict(generator.flow(graphs))"
   ]
  },
  {
   "cell_type": "markdown",
   "metadata": {},
   "source": [
    "## Downstream tasks\n",
    "\n",
    "Now that we've computed some embedding vectors in an unsupervised fashion, we can use them for other supervised, semi-supervised and unsupervised tasks."
   ]
  },
  {
   "cell_type": "markdown",
   "metadata": {},
   "source": [
    "### Supervised graph classification\n",
    "\n",
    "We can use the embedding vectors to perform logistic regression classification, using the labels."
   ]
  },
  {
   "cell_type": "code",
   "execution_count": 19,
   "metadata": {},
   "outputs": [],
   "source": [
    "from sklearn.linear_model import LogisticRegression\n",
    "from sklearn import model_selection"
   ]
  },
  {
   "cell_type": "code",
   "execution_count": 20,
   "metadata": {},
   "outputs": [
    {
     "name": "stdout",
     "output_type": "stream",
     "text": [
      "Test classification accuracy: 0.655688622754491\n"
     ]
    },
    {
     "name": "stderr",
     "output_type": "stream",
     "text": [
      "C:\\Users\\sgarcia40\\AppData\\Local\\Continuum\\anaconda37\\envs\\tf_gpu_1dot14\\lib\\site-packages\\sklearn\\linear_model\\_logistic.py:764: ConvergenceWarning: lbfgs failed to converge (status=1):\n",
      "STOP: TOTAL NO. of ITERATIONS REACHED LIMIT.\n",
      "\n",
      "Increase the number of iterations (max_iter) or scale the data as shown in:\n",
      "    https://scikit-learn.org/stable/modules/preprocessing.html\n",
      "Please also refer to the documentation for alternative solver options:\n",
      "    https://scikit-learn.org/stable/modules/linear_model.html#logistic-regression\n",
      "  extra_warning_msg=_LOGISTIC_SOLVER_CONVERGENCE_MSG)\n"
     ]
    }
   ],
   "source": [
    "train_labels, test_labels = model_selection.train_test_split(\n",
    "    graph_labels, train_size=0.1, test_size=None, stratify=graph_labels\n",
    ")\n",
    "\n",
    "test_embeddings = embeddings[test_labels.index - 1]\n",
    "train_embeddings = embeddings[train_labels.index - 1]\n",
    "\n",
    "lr = LogisticRegression(multi_class=\"auto\", solver=\"lbfgs\")\n",
    "lr.fit(train_embeddings, train_labels)\n",
    "\n",
    "y_pred = lr.predict(test_embeddings)\n",
    "gcn_acc = (y_pred == test_labels).mean()\n",
    "print(f\"Test classification accuracy: {gcn_acc}\")"
   ]
  },
  {
   "cell_type": "markdown",
   "metadata": {},
   "source": [
    "#### Confusion matrix"
   ]
  },
  {
   "cell_type": "code",
   "execution_count": 21,
   "metadata": {},
   "outputs": [
    {
     "data": {
      "text/html": [
       "<div>\n",
       "<style scoped>\n",
       "    .dataframe tbody tr th:only-of-type {\n",
       "        vertical-align: middle;\n",
       "    }\n",
       "\n",
       "    .dataframe tbody tr th {\n",
       "        vertical-align: top;\n",
       "    }\n",
       "\n",
       "    .dataframe thead th {\n",
       "        text-align: right;\n",
       "    }\n",
       "</style>\n",
       "<table border=\"1\" class=\"dataframe\">\n",
       "  <thead>\n",
       "    <tr style=\"text-align: right;\">\n",
       "      <th>predicted</th>\n",
       "      <th>1</th>\n",
       "      <th>2</th>\n",
       "    </tr>\n",
       "    <tr>\n",
       "      <th>true</th>\n",
       "      <th></th>\n",
       "      <th></th>\n",
       "    </tr>\n",
       "  </thead>\n",
       "  <tbody>\n",
       "    <tr>\n",
       "      <th>1</th>\n",
       "      <td>468</td>\n",
       "      <td>129</td>\n",
       "    </tr>\n",
       "    <tr>\n",
       "      <th>2</th>\n",
       "      <td>216</td>\n",
       "      <td>189</td>\n",
       "    </tr>\n",
       "  </tbody>\n",
       "</table>\n",
       "</div>"
      ],
      "text/plain": [
       "predicted    1    2\n",
       "true               \n",
       "1          468  129\n",
       "2          216  189"
      ]
     },
     "execution_count": 21,
     "metadata": {},
     "output_type": "execute_result"
    }
   ],
   "source": [
    "pd.crosstab(test_labels, y_pred, rownames=[\"true\"], colnames=[\"predicted\"])"
   ]
  },
  {
   "cell_type": "markdown",
   "metadata": {},
   "source": [
    "### Visualising embeddings\n",
    "\n",
    "We can also get a qualitative measure of the embeddings, using dimensionality reduction."
   ]
  },
  {
   "cell_type": "code",
   "execution_count": 22,
   "metadata": {},
   "outputs": [],
   "source": [
    "from sklearn.manifold import TSNE\n",
    "\n",
    "tsne = TSNE(2)\n",
    "two_d = tsne.fit_transform(embeddings)"
   ]
  },
  {
   "cell_type": "code",
   "execution_count": 23,
   "metadata": {},
   "outputs": [
    {
     "data": {
      "text/plain": [
       "<matplotlib.collections.PathCollection at 0x1fed0880a08>"
      ]
     },
     "execution_count": 23,
     "metadata": {},
     "output_type": "execute_result"
    },
    {
     "data": {
      "image/png": "[encoded data removed]",
      "text/plain": [
       "<Figure size 432x288 with 1 Axes>"
      ]
     },
     "metadata": {
      "needs_background": "light"
     },
     "output_type": "display_data"
    }
   ],
   "source": [
    "from matplotlib import pyplot as plt\n",
    "\n",
    "plt.scatter(two_d[:, 0], two_d[:, 1], c=graph_labels.cat.codes, cmap=\"jet\", alpha=0.4)"
   ]
  },
  {
   "cell_type": "markdown",
   "metadata": {},
   "source": [
    "## Conclusion\n",
    "\n",
    "This demo demonstrated training a graph classification model without supervision. This model could be used to compute embedding vectors or representations for graphs. \n",
    "\n",
    "The algorithm works with three components:\n",
    "\n",
    "- a ground truth distance or similarity between two graphs such as graph edit distance, or, in this case, laplacian spectrum distance (for efficiency)\n",
    "- a model that encodes graphs into embedding vectors\n",
    "- a data generator that yields pairs of graphs and the corresponding ground truth distance\n",
    "\n",
    "This model is inspired by UGraphEmb[1]."
   ]
  },
  {
   "cell_type": "markdown",
   "metadata": {
    "nbsphinx": "hidden",
    "tags": [
     "CloudRunner"
    ]
   },
   "source": [
    "<table><tr><td>Run the latest release of this notebook:</td><td><a href=\"https://mybinder.org/v2/gh/stellargraph/stellargraph/master?urlpath=lab/tree/demos/embeddings/gcn-unsupervised-graph-embeddings.ipynb\" alt=\"Open In Binder\" target=\"_parent\"><img src=\"https://mybinder.org/badge_logo.svg\"/></a></td><td><a href=\"https://colab.research.google.com/github/stellargraph/stellargraph/blob/master/demos/embeddings/gcn-unsupervised-graph-embeddings.ipynb\" alt=\"Open In Colab\" target=\"_parent\"><img src=\"https://colab.research.google.com/assets/colab-badge.svg\"/></a></td></tr></table>"
   ]
  }
 ],
 "metadata": {
  "kernelspec": {
   "display_name": "Python 3",
   "language": "python",
   "name": "python3"
  },
  "language_info": {
   "codemirror_mode": {
    "name": "ipython",
    "version": 3
   },
   "file_extension": ".py",
   "mimetype": "text/x-python",
   "name": "python",
   "nbconvert_exporter": "python",
   "pygments_lexer": "ipython3",
   "version": "3.7.6"
  },
  "varInspector": {
   "cols": {
    "lenName": "24",
    "lenType": "24",
    "lenVar": 40
   },
   "kernels_config": {
    "python": {
     "delete_cmd_postfix": "",
     "delete_cmd_prefix": "del ",
     "library": "var_list.py",
     "varRefreshCmd": "print(var_dic_list())"
    },
    "r": {
     "delete_cmd_postfix": ") ",
     "delete_cmd_prefix": "rm(",
     "library": "var_list.r",
     "varRefreshCmd": "cat(var_dic_list()) "
    }
   },
   "types_to_exclude": [
    "module",
    "function",
    "builtin_function_or_method",
    "instance",
    "_Feature"
   ],
   "window_display": false
  }
 },
 "nbformat": 4,
 "nbformat_minor": 4
}
